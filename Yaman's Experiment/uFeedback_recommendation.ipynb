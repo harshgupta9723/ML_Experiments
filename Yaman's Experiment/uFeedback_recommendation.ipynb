{
  "nbformat": 4,
  "nbformat_minor": 0,
  "metadata": {
    "colab": {
      "name": "uFeedback recommendation.ipynb",
      "provenance": []
    },
    "kernelspec": {
      "name": "python3",
      "display_name": "Python 3"
    },
    "language_info": {
      "name": "python"
    }
  },
  "cells": [
    {
      "cell_type": "code",
      "metadata": {
        "id": "7S5HC7dRWMfB"
      },
      "source": [
        "import pandas as pd\n",
        "import numpy as np\n",
        "import requests\n",
        "import json"
      ],
      "execution_count": 52,
      "outputs": []
    },
    {
      "cell_type": "code",
      "metadata": {
        "colab": {
          "base_uri": "https://localhost:8080/",
          "height": 234
        },
        "id": "7ySWJEwpXK0A",
        "outputId": "c0effe13-0395-4bc8-def6-641faeea5fb8"
      },
      "source": [
        "df = pd.read_csv('user.csv',index_col = 'job_id')\n",
        "df.head()"
      ],
      "execution_count": 53,
      "outputs": [
        {
          "output_type": "execute_result",
          "data": {
            "text/html": [
              "<div>\n",
              "<style scoped>\n",
              "    .dataframe tbody tr th:only-of-type {\n",
              "        vertical-align: middle;\n",
              "    }\n",
              "\n",
              "    .dataframe tbody tr th {\n",
              "        vertical-align: top;\n",
              "    }\n",
              "\n",
              "    .dataframe thead th {\n",
              "        text-align: right;\n",
              "    }\n",
              "</style>\n",
              "<table border=\"1\" class=\"dataframe\">\n",
              "  <thead>\n",
              "    <tr style=\"text-align: right;\">\n",
              "      <th></th>\n",
              "      <th>key</th>\n",
              "      <th>city_name</th>\n",
              "      <th>index</th>\n",
              "      <th>industry</th>\n",
              "      <th>job_title</th>\n",
              "      <th>similarity</th>\n",
              "      <th>userfeedback</th>\n",
              "    </tr>\n",
              "    <tr>\n",
              "      <th>job_id</th>\n",
              "      <th></th>\n",
              "      <th></th>\n",
              "      <th></th>\n",
              "      <th></th>\n",
              "      <th></th>\n",
              "      <th></th>\n",
              "      <th></th>\n",
              "    </tr>\n",
              "  </thead>\n",
              "  <tbody>\n",
              "    <tr>\n",
              "      <th>26</th>\n",
              "      <td>None_Ackermanville_213</td>\n",
              "      <td>Ackermanville</td>\n",
              "      <td>0</td>\n",
              "      <td>WalMart</td>\n",
              "      <td>Walmart Store Lead</td>\n",
              "      <td>0.124951</td>\n",
              "      <td>0</td>\n",
              "    </tr>\n",
              "    <tr>\n",
              "      <th>1</th>\n",
              "      <td>None_Abington_201</td>\n",
              "      <td>Abington</td>\n",
              "      <td>0</td>\n",
              "      <td>Transportation and Logistics</td>\n",
              "      <td>Jobs near me - Deliver with Uber Eats</td>\n",
              "      <td>0.201250</td>\n",
              "      <td>1</td>\n",
              "    </tr>\n",
              "    <tr>\n",
              "      <th>1</th>\n",
              "      <td>None_Nemours_72</td>\n",
              "      <td>Nemours</td>\n",
              "      <td>0</td>\n",
              "      <td>Transportation and Logistics</td>\n",
              "      <td>Jobs near me - Deliver with Uber Eats</td>\n",
              "      <td>0.183509</td>\n",
              "      <td>0</td>\n",
              "    </tr>\n",
              "    <tr>\n",
              "      <th>42</th>\n",
              "      <td>marten_transport_Morton_Grove_42</td>\n",
              "      <td>Morton Grove</td>\n",
              "      <td>0</td>\n",
              "      <td>marten_transport</td>\n",
              "      <td>Jobs near me - Truck Driving Jobs</td>\n",
              "      <td>0.206080</td>\n",
              "      <td>1</td>\n",
              "    </tr>\n",
              "    <tr>\n",
              "      <th>91</th>\n",
              "      <td>None_Shields_95</td>\n",
              "      <td>Shields</td>\n",
              "      <td>0</td>\n",
              "      <td>NaN</td>\n",
              "      <td>ubereats careers - Delivery Driver for Uber Ea...</td>\n",
              "      <td>0.183979</td>\n",
              "      <td>0</td>\n",
              "    </tr>\n",
              "  </tbody>\n",
              "</table>\n",
              "</div>"
            ],
            "text/plain": [
              "                                     key  ... userfeedback\n",
              "job_id                                    ...             \n",
              "26                None_Ackermanville_213  ...            0\n",
              "1                      None_Abington_201  ...            1\n",
              "1                        None_Nemours_72  ...            0\n",
              "42      marten_transport_Morton_Grove_42  ...            1\n",
              "91                       None_Shields_95  ...            0\n",
              "\n",
              "[5 rows x 7 columns]"
            ]
          },
          "metadata": {},
          "execution_count": 53
        }
      ]
    },
    {
      "cell_type": "code",
      "metadata": {
        "colab": {
          "base_uri": "https://localhost:8080/"
        },
        "id": "CGLGuls0XPyR",
        "outputId": "a585f8f5-1e33-4d02-a049-7368d3318ba4"
      },
      "source": [
        "np.random.randint(11,size = 10)"
      ],
      "execution_count": 54,
      "outputs": [
        {
          "output_type": "execute_result",
          "data": {
            "text/plain": [
              "array([10,  8,  2,  4,  8,  3,  0,  4,  0,  0])"
            ]
          },
          "metadata": {},
          "execution_count": 54
        }
      ]
    },
    {
      "cell_type": "code",
      "metadata": {
        "colab": {
          "base_uri": "https://localhost:8080/"
        },
        "id": "VspOv8dFYH9S",
        "outputId": "19884f10-d807-410d-a291-def8a534cda6"
      },
      "source": [
        "neg = np.random.randint(11,size=len(df))\n",
        "print(neg)\n",
        "print(len(neg))"
      ],
      "execution_count": 55,
      "outputs": [
        {
          "output_type": "stream",
          "name": "stdout",
          "text": [
            "[ 2  7  7  9  1  7  5  9  9  8  7  3  1  6  0  0  4  0  5  2  3  5  2  3\n",
            "  2  4  8 10  1  7  8  5  4  3  5 10 10  9 10  4  5  4 10  8  2  5  0 10\n",
            "  2  7  4  2  7  1  6  0  7  0  2  0  1  0  3  9  0  5 10  7  6  3  2  5\n",
            "  7  5  7  4  0  8  1  7  5  2  2  7  5  0  0  4  1  5  2  4  4 10  0  8\n",
            "  7  5  3  0  8  7  3  8  1  4  9  8  0  6  1  6  0  3  5  3  8  2  9  1\n",
            "  1 10  9  3  2  2  8  6  2  2  4  7  1  3  3  0  5  2  5  2  5 10  7 10\n",
            "  6  4  7 10  7  6  2  2 10 10  3  2  9]\n",
            "157\n"
          ]
        }
      ]
    },
    {
      "cell_type": "code",
      "metadata": {
        "colab": {
          "base_uri": "https://localhost:8080/",
          "height": 284
        },
        "id": "qvCnoQbFYnts",
        "outputId": "ee45acdb-4d30-44f3-8e54-06932c07a733"
      },
      "source": [
        "df['negative'] = neg\n",
        "df.head()"
      ],
      "execution_count": 98,
      "outputs": [
        {
          "output_type": "execute_result",
          "data": {
            "text/html": [
              "<div>\n",
              "<style scoped>\n",
              "    .dataframe tbody tr th:only-of-type {\n",
              "        vertical-align: middle;\n",
              "    }\n",
              "\n",
              "    .dataframe tbody tr th {\n",
              "        vertical-align: top;\n",
              "    }\n",
              "\n",
              "    .dataframe thead th {\n",
              "        text-align: right;\n",
              "    }\n",
              "</style>\n",
              "<table border=\"1\" class=\"dataframe\">\n",
              "  <thead>\n",
              "    <tr style=\"text-align: right;\">\n",
              "      <th></th>\n",
              "      <th>key</th>\n",
              "      <th>city_name</th>\n",
              "      <th>index</th>\n",
              "      <th>industry</th>\n",
              "      <th>job_title</th>\n",
              "      <th>similarity</th>\n",
              "      <th>negative</th>\n",
              "      <th>positive</th>\n",
              "      <th>total_reviews</th>\n",
              "      <th>percentage</th>\n",
              "      <th>dummy</th>\n",
              "    </tr>\n",
              "    <tr>\n",
              "      <th>job_id</th>\n",
              "      <th></th>\n",
              "      <th></th>\n",
              "      <th></th>\n",
              "      <th></th>\n",
              "      <th></th>\n",
              "      <th></th>\n",
              "      <th></th>\n",
              "      <th></th>\n",
              "      <th></th>\n",
              "      <th></th>\n",
              "      <th></th>\n",
              "    </tr>\n",
              "  </thead>\n",
              "  <tbody>\n",
              "    <tr>\n",
              "      <th>26</th>\n",
              "      <td>None_Ackermanville_213</td>\n",
              "      <td>Ackermanville</td>\n",
              "      <td>0</td>\n",
              "      <td>WalMart</td>\n",
              "      <td>Walmart Store Lead</td>\n",
              "      <td>0.124951</td>\n",
              "      <td>2</td>\n",
              "      <td>3</td>\n",
              "      <td>5</td>\n",
              "      <td>60.000000</td>\n",
              "      <td>2</td>\n",
              "    </tr>\n",
              "    <tr>\n",
              "      <th>1</th>\n",
              "      <td>None_Abington_201</td>\n",
              "      <td>Abington</td>\n",
              "      <td>0</td>\n",
              "      <td>Transportation and Logistics</td>\n",
              "      <td>Jobs near me - Deliver with Uber Eats</td>\n",
              "      <td>0.201250</td>\n",
              "      <td>7</td>\n",
              "      <td>9</td>\n",
              "      <td>16</td>\n",
              "      <td>56.250000</td>\n",
              "      <td>2</td>\n",
              "    </tr>\n",
              "    <tr>\n",
              "      <th>1</th>\n",
              "      <td>None_Nemours_72</td>\n",
              "      <td>Nemours</td>\n",
              "      <td>0</td>\n",
              "      <td>Transportation and Logistics</td>\n",
              "      <td>Jobs near me - Deliver with Uber Eats</td>\n",
              "      <td>0.183509</td>\n",
              "      <td>7</td>\n",
              "      <td>0</td>\n",
              "      <td>7</td>\n",
              "      <td>0.000000</td>\n",
              "      <td>2</td>\n",
              "    </tr>\n",
              "    <tr>\n",
              "      <th>42</th>\n",
              "      <td>marten_transport_Morton_Grove_42</td>\n",
              "      <td>Morton Grove</td>\n",
              "      <td>0</td>\n",
              "      <td>marten_transport</td>\n",
              "      <td>Jobs near me - Truck Driving Jobs</td>\n",
              "      <td>0.206080</td>\n",
              "      <td>9</td>\n",
              "      <td>10</td>\n",
              "      <td>19</td>\n",
              "      <td>52.631579</td>\n",
              "      <td>2</td>\n",
              "    </tr>\n",
              "    <tr>\n",
              "      <th>91</th>\n",
              "      <td>None_Shields_95</td>\n",
              "      <td>Shields</td>\n",
              "      <td>0</td>\n",
              "      <td>NaN</td>\n",
              "      <td>ubereats careers - Delivery Driver for Uber Ea...</td>\n",
              "      <td>0.183979</td>\n",
              "      <td>1</td>\n",
              "      <td>7</td>\n",
              "      <td>8</td>\n",
              "      <td>87.500000</td>\n",
              "      <td>2</td>\n",
              "    </tr>\n",
              "  </tbody>\n",
              "</table>\n",
              "</div>"
            ],
            "text/plain": [
              "                                     key      city_name  ...  percentage dummy\n",
              "job_id                                                   ...                  \n",
              "26                None_Ackermanville_213  Ackermanville  ...   60.000000     2\n",
              "1                      None_Abington_201       Abington  ...   56.250000     2\n",
              "1                        None_Nemours_72        Nemours  ...    0.000000     2\n",
              "42      marten_transport_Morton_Grove_42   Morton Grove  ...   52.631579     2\n",
              "91                       None_Shields_95        Shields  ...   87.500000     2\n",
              "\n",
              "[5 rows x 11 columns]"
            ]
          },
          "metadata": {},
          "execution_count": 98
        }
      ]
    },
    {
      "cell_type": "code",
      "metadata": {
        "id": "hg6IbCEIY0BB"
      },
      "source": [
        "df['dummy'] = np.random.randint(11)"
      ],
      "execution_count": 96,
      "outputs": []
    },
    {
      "cell_type": "code",
      "metadata": {
        "colab": {
          "base_uri": "https://localhost:8080/",
          "height": 234
        },
        "id": "CX6EywfgZFPk",
        "outputId": "944365ab-222b-4fd7-ad60-6312bf7e55e7"
      },
      "source": [
        "df.head()"
      ],
      "execution_count": 58,
      "outputs": [
        {
          "output_type": "execute_result",
          "data": {
            "text/html": [
              "<div>\n",
              "<style scoped>\n",
              "    .dataframe tbody tr th:only-of-type {\n",
              "        vertical-align: middle;\n",
              "    }\n",
              "\n",
              "    .dataframe tbody tr th {\n",
              "        vertical-align: top;\n",
              "    }\n",
              "\n",
              "    .dataframe thead th {\n",
              "        text-align: right;\n",
              "    }\n",
              "</style>\n",
              "<table border=\"1\" class=\"dataframe\">\n",
              "  <thead>\n",
              "    <tr style=\"text-align: right;\">\n",
              "      <th></th>\n",
              "      <th>key</th>\n",
              "      <th>city_name</th>\n",
              "      <th>index</th>\n",
              "      <th>industry</th>\n",
              "      <th>job_title</th>\n",
              "      <th>similarity</th>\n",
              "      <th>userfeedback</th>\n",
              "      <th>negative</th>\n",
              "      <th>dummy</th>\n",
              "    </tr>\n",
              "    <tr>\n",
              "      <th>job_id</th>\n",
              "      <th></th>\n",
              "      <th></th>\n",
              "      <th></th>\n",
              "      <th></th>\n",
              "      <th></th>\n",
              "      <th></th>\n",
              "      <th></th>\n",
              "      <th></th>\n",
              "      <th></th>\n",
              "    </tr>\n",
              "  </thead>\n",
              "  <tbody>\n",
              "    <tr>\n",
              "      <th>26</th>\n",
              "      <td>None_Ackermanville_213</td>\n",
              "      <td>Ackermanville</td>\n",
              "      <td>0</td>\n",
              "      <td>WalMart</td>\n",
              "      <td>Walmart Store Lead</td>\n",
              "      <td>0.124951</td>\n",
              "      <td>0</td>\n",
              "      <td>2</td>\n",
              "      <td>2</td>\n",
              "    </tr>\n",
              "    <tr>\n",
              "      <th>1</th>\n",
              "      <td>None_Abington_201</td>\n",
              "      <td>Abington</td>\n",
              "      <td>0</td>\n",
              "      <td>Transportation and Logistics</td>\n",
              "      <td>Jobs near me - Deliver with Uber Eats</td>\n",
              "      <td>0.201250</td>\n",
              "      <td>1</td>\n",
              "      <td>7</td>\n",
              "      <td>2</td>\n",
              "    </tr>\n",
              "    <tr>\n",
              "      <th>1</th>\n",
              "      <td>None_Nemours_72</td>\n",
              "      <td>Nemours</td>\n",
              "      <td>0</td>\n",
              "      <td>Transportation and Logistics</td>\n",
              "      <td>Jobs near me - Deliver with Uber Eats</td>\n",
              "      <td>0.183509</td>\n",
              "      <td>0</td>\n",
              "      <td>7</td>\n",
              "      <td>2</td>\n",
              "    </tr>\n",
              "    <tr>\n",
              "      <th>42</th>\n",
              "      <td>marten_transport_Morton_Grove_42</td>\n",
              "      <td>Morton Grove</td>\n",
              "      <td>0</td>\n",
              "      <td>marten_transport</td>\n",
              "      <td>Jobs near me - Truck Driving Jobs</td>\n",
              "      <td>0.206080</td>\n",
              "      <td>1</td>\n",
              "      <td>9</td>\n",
              "      <td>2</td>\n",
              "    </tr>\n",
              "    <tr>\n",
              "      <th>91</th>\n",
              "      <td>None_Shields_95</td>\n",
              "      <td>Shields</td>\n",
              "      <td>0</td>\n",
              "      <td>NaN</td>\n",
              "      <td>ubereats careers - Delivery Driver for Uber Ea...</td>\n",
              "      <td>0.183979</td>\n",
              "      <td>0</td>\n",
              "      <td>1</td>\n",
              "      <td>2</td>\n",
              "    </tr>\n",
              "  </tbody>\n",
              "</table>\n",
              "</div>"
            ],
            "text/plain": [
              "                                     key      city_name  ...  negative dummy\n",
              "job_id                                                   ...                \n",
              "26                None_Ackermanville_213  Ackermanville  ...         2     2\n",
              "1                      None_Abington_201       Abington  ...         7     2\n",
              "1                        None_Nemours_72        Nemours  ...         7     2\n",
              "42      marten_transport_Morton_Grove_42   Morton Grove  ...         9     2\n",
              "91                       None_Shields_95        Shields  ...         1     2\n",
              "\n",
              "[5 rows x 9 columns]"
            ]
          },
          "metadata": {},
          "execution_count": 58
        }
      ]
    },
    {
      "cell_type": "code",
      "metadata": {
        "colab": {
          "base_uri": "https://localhost:8080/"
        },
        "id": "i8usYxjlZZ7D",
        "outputId": "6ac0b84c-2bf9-4673-ad72-ca40bd006f73"
      },
      "source": [
        "pos = np.random.randint(11,size = len(df))\n",
        "print(pos)\n",
        "print(len(pos))"
      ],
      "execution_count": 59,
      "outputs": [
        {
          "output_type": "stream",
          "name": "stdout",
          "text": [
            "[ 3  9  0 10  7  7  9  8  3  5  2  5  1  3  7  4  2 10  6  1  0  6  8  6\n",
            "  0 10  8  0  8  5  4  5 10  6  1 10  0  1  1  1 10  4  5  7  5  3 10  0\n",
            "  1  9 10  4  0  5  8  6  1  8  9  1  1  4  1  5 10  0  4  1 10  2 10  9\n",
            "  0  3  3  1  6  0  2  1  9  4  1  6  1  4  7  3  5  6  9  1  8  8  4 10\n",
            " 10  2  7  1 10  3 10  2  9  0  5  4  7  8  3  6  8  0  4  1  8  5  0  0\n",
            "  7  3  8  0 10  1  3  0  9  1  1  2  6  5  5  7  2  4  4 10  3  1  9  5\n",
            "  9  3 10  5  9  2  0  4  4  0  2  7  5]\n",
            "157\n"
          ]
        }
      ]
    },
    {
      "cell_type": "code",
      "metadata": {
        "colab": {
          "base_uri": "https://localhost:8080/",
          "height": 234
        },
        "id": "pe72XNpJZnp7",
        "outputId": "94df81f6-03e9-4919-e1b4-5be04927cae3"
      },
      "source": [
        "df['positive'] = pos\n",
        "df.head()"
      ],
      "execution_count": 60,
      "outputs": [
        {
          "output_type": "execute_result",
          "data": {
            "text/html": [
              "<div>\n",
              "<style scoped>\n",
              "    .dataframe tbody tr th:only-of-type {\n",
              "        vertical-align: middle;\n",
              "    }\n",
              "\n",
              "    .dataframe tbody tr th {\n",
              "        vertical-align: top;\n",
              "    }\n",
              "\n",
              "    .dataframe thead th {\n",
              "        text-align: right;\n",
              "    }\n",
              "</style>\n",
              "<table border=\"1\" class=\"dataframe\">\n",
              "  <thead>\n",
              "    <tr style=\"text-align: right;\">\n",
              "      <th></th>\n",
              "      <th>key</th>\n",
              "      <th>city_name</th>\n",
              "      <th>index</th>\n",
              "      <th>industry</th>\n",
              "      <th>job_title</th>\n",
              "      <th>similarity</th>\n",
              "      <th>userfeedback</th>\n",
              "      <th>negative</th>\n",
              "      <th>dummy</th>\n",
              "      <th>positive</th>\n",
              "    </tr>\n",
              "    <tr>\n",
              "      <th>job_id</th>\n",
              "      <th></th>\n",
              "      <th></th>\n",
              "      <th></th>\n",
              "      <th></th>\n",
              "      <th></th>\n",
              "      <th></th>\n",
              "      <th></th>\n",
              "      <th></th>\n",
              "      <th></th>\n",
              "      <th></th>\n",
              "    </tr>\n",
              "  </thead>\n",
              "  <tbody>\n",
              "    <tr>\n",
              "      <th>26</th>\n",
              "      <td>None_Ackermanville_213</td>\n",
              "      <td>Ackermanville</td>\n",
              "      <td>0</td>\n",
              "      <td>WalMart</td>\n",
              "      <td>Walmart Store Lead</td>\n",
              "      <td>0.124951</td>\n",
              "      <td>0</td>\n",
              "      <td>2</td>\n",
              "      <td>2</td>\n",
              "      <td>3</td>\n",
              "    </tr>\n",
              "    <tr>\n",
              "      <th>1</th>\n",
              "      <td>None_Abington_201</td>\n",
              "      <td>Abington</td>\n",
              "      <td>0</td>\n",
              "      <td>Transportation and Logistics</td>\n",
              "      <td>Jobs near me - Deliver with Uber Eats</td>\n",
              "      <td>0.201250</td>\n",
              "      <td>1</td>\n",
              "      <td>7</td>\n",
              "      <td>2</td>\n",
              "      <td>9</td>\n",
              "    </tr>\n",
              "    <tr>\n",
              "      <th>1</th>\n",
              "      <td>None_Nemours_72</td>\n",
              "      <td>Nemours</td>\n",
              "      <td>0</td>\n",
              "      <td>Transportation and Logistics</td>\n",
              "      <td>Jobs near me - Deliver with Uber Eats</td>\n",
              "      <td>0.183509</td>\n",
              "      <td>0</td>\n",
              "      <td>7</td>\n",
              "      <td>2</td>\n",
              "      <td>0</td>\n",
              "    </tr>\n",
              "    <tr>\n",
              "      <th>42</th>\n",
              "      <td>marten_transport_Morton_Grove_42</td>\n",
              "      <td>Morton Grove</td>\n",
              "      <td>0</td>\n",
              "      <td>marten_transport</td>\n",
              "      <td>Jobs near me - Truck Driving Jobs</td>\n",
              "      <td>0.206080</td>\n",
              "      <td>1</td>\n",
              "      <td>9</td>\n",
              "      <td>2</td>\n",
              "      <td>10</td>\n",
              "    </tr>\n",
              "    <tr>\n",
              "      <th>91</th>\n",
              "      <td>None_Shields_95</td>\n",
              "      <td>Shields</td>\n",
              "      <td>0</td>\n",
              "      <td>NaN</td>\n",
              "      <td>ubereats careers - Delivery Driver for Uber Ea...</td>\n",
              "      <td>0.183979</td>\n",
              "      <td>0</td>\n",
              "      <td>1</td>\n",
              "      <td>2</td>\n",
              "      <td>7</td>\n",
              "    </tr>\n",
              "  </tbody>\n",
              "</table>\n",
              "</div>"
            ],
            "text/plain": [
              "                                     key      city_name  ...  dummy positive\n",
              "job_id                                                   ...                \n",
              "26                None_Ackermanville_213  Ackermanville  ...      2        3\n",
              "1                      None_Abington_201       Abington  ...      2        9\n",
              "1                        None_Nemours_72        Nemours  ...      2        0\n",
              "42      marten_transport_Morton_Grove_42   Morton Grove  ...      2       10\n",
              "91                       None_Shields_95        Shields  ...      2        7\n",
              "\n",
              "[5 rows x 10 columns]"
            ]
          },
          "metadata": {},
          "execution_count": 60
        }
      ]
    },
    {
      "cell_type": "code",
      "metadata": {
        "id": "Jnl2Y9hrZr7v"
      },
      "source": [
        "df.drop(columns = ['dummy'],inplace = True)"
      ],
      "execution_count": 61,
      "outputs": []
    },
    {
      "cell_type": "code",
      "metadata": {
        "colab": {
          "base_uri": "https://localhost:8080/",
          "height": 234
        },
        "id": "OZ38YjxDaFF8",
        "outputId": "3248bd7d-13ee-4b7b-b701-0f0c7a94b4c7"
      },
      "source": [
        "df.head()"
      ],
      "execution_count": 62,
      "outputs": [
        {
          "output_type": "execute_result",
          "data": {
            "text/html": [
              "<div>\n",
              "<style scoped>\n",
              "    .dataframe tbody tr th:only-of-type {\n",
              "        vertical-align: middle;\n",
              "    }\n",
              "\n",
              "    .dataframe tbody tr th {\n",
              "        vertical-align: top;\n",
              "    }\n",
              "\n",
              "    .dataframe thead th {\n",
              "        text-align: right;\n",
              "    }\n",
              "</style>\n",
              "<table border=\"1\" class=\"dataframe\">\n",
              "  <thead>\n",
              "    <tr style=\"text-align: right;\">\n",
              "      <th></th>\n",
              "      <th>key</th>\n",
              "      <th>city_name</th>\n",
              "      <th>index</th>\n",
              "      <th>industry</th>\n",
              "      <th>job_title</th>\n",
              "      <th>similarity</th>\n",
              "      <th>userfeedback</th>\n",
              "      <th>negative</th>\n",
              "      <th>positive</th>\n",
              "    </tr>\n",
              "    <tr>\n",
              "      <th>job_id</th>\n",
              "      <th></th>\n",
              "      <th></th>\n",
              "      <th></th>\n",
              "      <th></th>\n",
              "      <th></th>\n",
              "      <th></th>\n",
              "      <th></th>\n",
              "      <th></th>\n",
              "      <th></th>\n",
              "    </tr>\n",
              "  </thead>\n",
              "  <tbody>\n",
              "    <tr>\n",
              "      <th>26</th>\n",
              "      <td>None_Ackermanville_213</td>\n",
              "      <td>Ackermanville</td>\n",
              "      <td>0</td>\n",
              "      <td>WalMart</td>\n",
              "      <td>Walmart Store Lead</td>\n",
              "      <td>0.124951</td>\n",
              "      <td>0</td>\n",
              "      <td>2</td>\n",
              "      <td>3</td>\n",
              "    </tr>\n",
              "    <tr>\n",
              "      <th>1</th>\n",
              "      <td>None_Abington_201</td>\n",
              "      <td>Abington</td>\n",
              "      <td>0</td>\n",
              "      <td>Transportation and Logistics</td>\n",
              "      <td>Jobs near me - Deliver with Uber Eats</td>\n",
              "      <td>0.201250</td>\n",
              "      <td>1</td>\n",
              "      <td>7</td>\n",
              "      <td>9</td>\n",
              "    </tr>\n",
              "    <tr>\n",
              "      <th>1</th>\n",
              "      <td>None_Nemours_72</td>\n",
              "      <td>Nemours</td>\n",
              "      <td>0</td>\n",
              "      <td>Transportation and Logistics</td>\n",
              "      <td>Jobs near me - Deliver with Uber Eats</td>\n",
              "      <td>0.183509</td>\n",
              "      <td>0</td>\n",
              "      <td>7</td>\n",
              "      <td>0</td>\n",
              "    </tr>\n",
              "    <tr>\n",
              "      <th>42</th>\n",
              "      <td>marten_transport_Morton_Grove_42</td>\n",
              "      <td>Morton Grove</td>\n",
              "      <td>0</td>\n",
              "      <td>marten_transport</td>\n",
              "      <td>Jobs near me - Truck Driving Jobs</td>\n",
              "      <td>0.206080</td>\n",
              "      <td>1</td>\n",
              "      <td>9</td>\n",
              "      <td>10</td>\n",
              "    </tr>\n",
              "    <tr>\n",
              "      <th>91</th>\n",
              "      <td>None_Shields_95</td>\n",
              "      <td>Shields</td>\n",
              "      <td>0</td>\n",
              "      <td>NaN</td>\n",
              "      <td>ubereats careers - Delivery Driver for Uber Ea...</td>\n",
              "      <td>0.183979</td>\n",
              "      <td>0</td>\n",
              "      <td>1</td>\n",
              "      <td>7</td>\n",
              "    </tr>\n",
              "  </tbody>\n",
              "</table>\n",
              "</div>"
            ],
            "text/plain": [
              "                                     key      city_name  ...  negative positive\n",
              "job_id                                                   ...                   \n",
              "26                None_Ackermanville_213  Ackermanville  ...         2        3\n",
              "1                      None_Abington_201       Abington  ...         7        9\n",
              "1                        None_Nemours_72        Nemours  ...         7        0\n",
              "42      marten_transport_Morton_Grove_42   Morton Grove  ...         9       10\n",
              "91                       None_Shields_95        Shields  ...         1        7\n",
              "\n",
              "[5 rows x 9 columns]"
            ]
          },
          "metadata": {},
          "execution_count": 62
        }
      ]
    },
    {
      "cell_type": "code",
      "metadata": {
        "id": "2eT5PaA4aGa5"
      },
      "source": [
        "df.drop(columns = ['userfeedback'],inplace = True)"
      ],
      "execution_count": 63,
      "outputs": []
    },
    {
      "cell_type": "code",
      "metadata": {
        "colab": {
          "base_uri": "https://localhost:8080/",
          "height": 234
        },
        "id": "mIlEqxVIaNrr",
        "outputId": "3dbeff50-4092-416e-8bfa-2182942c53e6"
      },
      "source": [
        "df.head()"
      ],
      "execution_count": 64,
      "outputs": [
        {
          "output_type": "execute_result",
          "data": {
            "text/html": [
              "<div>\n",
              "<style scoped>\n",
              "    .dataframe tbody tr th:only-of-type {\n",
              "        vertical-align: middle;\n",
              "    }\n",
              "\n",
              "    .dataframe tbody tr th {\n",
              "        vertical-align: top;\n",
              "    }\n",
              "\n",
              "    .dataframe thead th {\n",
              "        text-align: right;\n",
              "    }\n",
              "</style>\n",
              "<table border=\"1\" class=\"dataframe\">\n",
              "  <thead>\n",
              "    <tr style=\"text-align: right;\">\n",
              "      <th></th>\n",
              "      <th>key</th>\n",
              "      <th>city_name</th>\n",
              "      <th>index</th>\n",
              "      <th>industry</th>\n",
              "      <th>job_title</th>\n",
              "      <th>similarity</th>\n",
              "      <th>negative</th>\n",
              "      <th>positive</th>\n",
              "    </tr>\n",
              "    <tr>\n",
              "      <th>job_id</th>\n",
              "      <th></th>\n",
              "      <th></th>\n",
              "      <th></th>\n",
              "      <th></th>\n",
              "      <th></th>\n",
              "      <th></th>\n",
              "      <th></th>\n",
              "      <th></th>\n",
              "    </tr>\n",
              "  </thead>\n",
              "  <tbody>\n",
              "    <tr>\n",
              "      <th>26</th>\n",
              "      <td>None_Ackermanville_213</td>\n",
              "      <td>Ackermanville</td>\n",
              "      <td>0</td>\n",
              "      <td>WalMart</td>\n",
              "      <td>Walmart Store Lead</td>\n",
              "      <td>0.124951</td>\n",
              "      <td>2</td>\n",
              "      <td>3</td>\n",
              "    </tr>\n",
              "    <tr>\n",
              "      <th>1</th>\n",
              "      <td>None_Abington_201</td>\n",
              "      <td>Abington</td>\n",
              "      <td>0</td>\n",
              "      <td>Transportation and Logistics</td>\n",
              "      <td>Jobs near me - Deliver with Uber Eats</td>\n",
              "      <td>0.201250</td>\n",
              "      <td>7</td>\n",
              "      <td>9</td>\n",
              "    </tr>\n",
              "    <tr>\n",
              "      <th>1</th>\n",
              "      <td>None_Nemours_72</td>\n",
              "      <td>Nemours</td>\n",
              "      <td>0</td>\n",
              "      <td>Transportation and Logistics</td>\n",
              "      <td>Jobs near me - Deliver with Uber Eats</td>\n",
              "      <td>0.183509</td>\n",
              "      <td>7</td>\n",
              "      <td>0</td>\n",
              "    </tr>\n",
              "    <tr>\n",
              "      <th>42</th>\n",
              "      <td>marten_transport_Morton_Grove_42</td>\n",
              "      <td>Morton Grove</td>\n",
              "      <td>0</td>\n",
              "      <td>marten_transport</td>\n",
              "      <td>Jobs near me - Truck Driving Jobs</td>\n",
              "      <td>0.206080</td>\n",
              "      <td>9</td>\n",
              "      <td>10</td>\n",
              "    </tr>\n",
              "    <tr>\n",
              "      <th>91</th>\n",
              "      <td>None_Shields_95</td>\n",
              "      <td>Shields</td>\n",
              "      <td>0</td>\n",
              "      <td>NaN</td>\n",
              "      <td>ubereats careers - Delivery Driver for Uber Ea...</td>\n",
              "      <td>0.183979</td>\n",
              "      <td>1</td>\n",
              "      <td>7</td>\n",
              "    </tr>\n",
              "  </tbody>\n",
              "</table>\n",
              "</div>"
            ],
            "text/plain": [
              "                                     key      city_name  ...  negative positive\n",
              "job_id                                                   ...                   \n",
              "26                None_Ackermanville_213  Ackermanville  ...         2        3\n",
              "1                      None_Abington_201       Abington  ...         7        9\n",
              "1                        None_Nemours_72        Nemours  ...         7        0\n",
              "42      marten_transport_Morton_Grove_42   Morton Grove  ...         9       10\n",
              "91                       None_Shields_95        Shields  ...         1        7\n",
              "\n",
              "[5 rows x 8 columns]"
            ]
          },
          "metadata": {},
          "execution_count": 64
        }
      ]
    },
    {
      "cell_type": "code",
      "metadata": {
        "id": "TUd_u5aHaPUg"
      },
      "source": [
        "df['total_reviews'] = df['negative']+df['positive']"
      ],
      "execution_count": 65,
      "outputs": []
    },
    {
      "cell_type": "code",
      "metadata": {
        "colab": {
          "base_uri": "https://localhost:8080/",
          "height": 234
        },
        "id": "De5kiBafalA3",
        "outputId": "ade6ff5b-64ec-4b5e-c606-8f740f19ff1c"
      },
      "source": [
        "df.head()"
      ],
      "execution_count": 66,
      "outputs": [
        {
          "output_type": "execute_result",
          "data": {
            "text/html": [
              "<div>\n",
              "<style scoped>\n",
              "    .dataframe tbody tr th:only-of-type {\n",
              "        vertical-align: middle;\n",
              "    }\n",
              "\n",
              "    .dataframe tbody tr th {\n",
              "        vertical-align: top;\n",
              "    }\n",
              "\n",
              "    .dataframe thead th {\n",
              "        text-align: right;\n",
              "    }\n",
              "</style>\n",
              "<table border=\"1\" class=\"dataframe\">\n",
              "  <thead>\n",
              "    <tr style=\"text-align: right;\">\n",
              "      <th></th>\n",
              "      <th>key</th>\n",
              "      <th>city_name</th>\n",
              "      <th>index</th>\n",
              "      <th>industry</th>\n",
              "      <th>job_title</th>\n",
              "      <th>similarity</th>\n",
              "      <th>negative</th>\n",
              "      <th>positive</th>\n",
              "      <th>total_reviews</th>\n",
              "    </tr>\n",
              "    <tr>\n",
              "      <th>job_id</th>\n",
              "      <th></th>\n",
              "      <th></th>\n",
              "      <th></th>\n",
              "      <th></th>\n",
              "      <th></th>\n",
              "      <th></th>\n",
              "      <th></th>\n",
              "      <th></th>\n",
              "      <th></th>\n",
              "    </tr>\n",
              "  </thead>\n",
              "  <tbody>\n",
              "    <tr>\n",
              "      <th>26</th>\n",
              "      <td>None_Ackermanville_213</td>\n",
              "      <td>Ackermanville</td>\n",
              "      <td>0</td>\n",
              "      <td>WalMart</td>\n",
              "      <td>Walmart Store Lead</td>\n",
              "      <td>0.124951</td>\n",
              "      <td>2</td>\n",
              "      <td>3</td>\n",
              "      <td>5</td>\n",
              "    </tr>\n",
              "    <tr>\n",
              "      <th>1</th>\n",
              "      <td>None_Abington_201</td>\n",
              "      <td>Abington</td>\n",
              "      <td>0</td>\n",
              "      <td>Transportation and Logistics</td>\n",
              "      <td>Jobs near me - Deliver with Uber Eats</td>\n",
              "      <td>0.201250</td>\n",
              "      <td>7</td>\n",
              "      <td>9</td>\n",
              "      <td>16</td>\n",
              "    </tr>\n",
              "    <tr>\n",
              "      <th>1</th>\n",
              "      <td>None_Nemours_72</td>\n",
              "      <td>Nemours</td>\n",
              "      <td>0</td>\n",
              "      <td>Transportation and Logistics</td>\n",
              "      <td>Jobs near me - Deliver with Uber Eats</td>\n",
              "      <td>0.183509</td>\n",
              "      <td>7</td>\n",
              "      <td>0</td>\n",
              "      <td>7</td>\n",
              "    </tr>\n",
              "    <tr>\n",
              "      <th>42</th>\n",
              "      <td>marten_transport_Morton_Grove_42</td>\n",
              "      <td>Morton Grove</td>\n",
              "      <td>0</td>\n",
              "      <td>marten_transport</td>\n",
              "      <td>Jobs near me - Truck Driving Jobs</td>\n",
              "      <td>0.206080</td>\n",
              "      <td>9</td>\n",
              "      <td>10</td>\n",
              "      <td>19</td>\n",
              "    </tr>\n",
              "    <tr>\n",
              "      <th>91</th>\n",
              "      <td>None_Shields_95</td>\n",
              "      <td>Shields</td>\n",
              "      <td>0</td>\n",
              "      <td>NaN</td>\n",
              "      <td>ubereats careers - Delivery Driver for Uber Ea...</td>\n",
              "      <td>0.183979</td>\n",
              "      <td>1</td>\n",
              "      <td>7</td>\n",
              "      <td>8</td>\n",
              "    </tr>\n",
              "  </tbody>\n",
              "</table>\n",
              "</div>"
            ],
            "text/plain": [
              "                                     key  ... total_reviews\n",
              "job_id                                    ...              \n",
              "26                None_Ackermanville_213  ...             5\n",
              "1                      None_Abington_201  ...            16\n",
              "1                        None_Nemours_72  ...             7\n",
              "42      marten_transport_Morton_Grove_42  ...            19\n",
              "91                       None_Shields_95  ...             8\n",
              "\n",
              "[5 rows x 9 columns]"
            ]
          },
          "metadata": {},
          "execution_count": 66
        }
      ]
    },
    {
      "cell_type": "code",
      "metadata": {
        "id": "WChxuJkUal8m"
      },
      "source": [
        "df['percentage'] = df['positive']/df['total_reviews']*100"
      ],
      "execution_count": 67,
      "outputs": []
    },
    {
      "cell_type": "code",
      "metadata": {
        "colab": {
          "base_uri": "https://localhost:8080/",
          "height": 234
        },
        "id": "PMNT8uKeh_OY",
        "outputId": "4927e3e8-9e9a-4a39-933c-6555bba1ad81"
      },
      "source": [
        "df.head()"
      ],
      "execution_count": 68,
      "outputs": [
        {
          "output_type": "execute_result",
          "data": {
            "text/html": [
              "<div>\n",
              "<style scoped>\n",
              "    .dataframe tbody tr th:only-of-type {\n",
              "        vertical-align: middle;\n",
              "    }\n",
              "\n",
              "    .dataframe tbody tr th {\n",
              "        vertical-align: top;\n",
              "    }\n",
              "\n",
              "    .dataframe thead th {\n",
              "        text-align: right;\n",
              "    }\n",
              "</style>\n",
              "<table border=\"1\" class=\"dataframe\">\n",
              "  <thead>\n",
              "    <tr style=\"text-align: right;\">\n",
              "      <th></th>\n",
              "      <th>key</th>\n",
              "      <th>city_name</th>\n",
              "      <th>index</th>\n",
              "      <th>industry</th>\n",
              "      <th>job_title</th>\n",
              "      <th>similarity</th>\n",
              "      <th>negative</th>\n",
              "      <th>positive</th>\n",
              "      <th>total_reviews</th>\n",
              "      <th>percentage</th>\n",
              "    </tr>\n",
              "    <tr>\n",
              "      <th>job_id</th>\n",
              "      <th></th>\n",
              "      <th></th>\n",
              "      <th></th>\n",
              "      <th></th>\n",
              "      <th></th>\n",
              "      <th></th>\n",
              "      <th></th>\n",
              "      <th></th>\n",
              "      <th></th>\n",
              "      <th></th>\n",
              "    </tr>\n",
              "  </thead>\n",
              "  <tbody>\n",
              "    <tr>\n",
              "      <th>26</th>\n",
              "      <td>None_Ackermanville_213</td>\n",
              "      <td>Ackermanville</td>\n",
              "      <td>0</td>\n",
              "      <td>WalMart</td>\n",
              "      <td>Walmart Store Lead</td>\n",
              "      <td>0.124951</td>\n",
              "      <td>2</td>\n",
              "      <td>3</td>\n",
              "      <td>5</td>\n",
              "      <td>60.000000</td>\n",
              "    </tr>\n",
              "    <tr>\n",
              "      <th>1</th>\n",
              "      <td>None_Abington_201</td>\n",
              "      <td>Abington</td>\n",
              "      <td>0</td>\n",
              "      <td>Transportation and Logistics</td>\n",
              "      <td>Jobs near me - Deliver with Uber Eats</td>\n",
              "      <td>0.201250</td>\n",
              "      <td>7</td>\n",
              "      <td>9</td>\n",
              "      <td>16</td>\n",
              "      <td>56.250000</td>\n",
              "    </tr>\n",
              "    <tr>\n",
              "      <th>1</th>\n",
              "      <td>None_Nemours_72</td>\n",
              "      <td>Nemours</td>\n",
              "      <td>0</td>\n",
              "      <td>Transportation and Logistics</td>\n",
              "      <td>Jobs near me - Deliver with Uber Eats</td>\n",
              "      <td>0.183509</td>\n",
              "      <td>7</td>\n",
              "      <td>0</td>\n",
              "      <td>7</td>\n",
              "      <td>0.000000</td>\n",
              "    </tr>\n",
              "    <tr>\n",
              "      <th>42</th>\n",
              "      <td>marten_transport_Morton_Grove_42</td>\n",
              "      <td>Morton Grove</td>\n",
              "      <td>0</td>\n",
              "      <td>marten_transport</td>\n",
              "      <td>Jobs near me - Truck Driving Jobs</td>\n",
              "      <td>0.206080</td>\n",
              "      <td>9</td>\n",
              "      <td>10</td>\n",
              "      <td>19</td>\n",
              "      <td>52.631579</td>\n",
              "    </tr>\n",
              "    <tr>\n",
              "      <th>91</th>\n",
              "      <td>None_Shields_95</td>\n",
              "      <td>Shields</td>\n",
              "      <td>0</td>\n",
              "      <td>NaN</td>\n",
              "      <td>ubereats careers - Delivery Driver for Uber Ea...</td>\n",
              "      <td>0.183979</td>\n",
              "      <td>1</td>\n",
              "      <td>7</td>\n",
              "      <td>8</td>\n",
              "      <td>87.500000</td>\n",
              "    </tr>\n",
              "  </tbody>\n",
              "</table>\n",
              "</div>"
            ],
            "text/plain": [
              "                                     key  ... percentage\n",
              "job_id                                    ...           \n",
              "26                None_Ackermanville_213  ...  60.000000\n",
              "1                      None_Abington_201  ...  56.250000\n",
              "1                        None_Nemours_72  ...   0.000000\n",
              "42      marten_transport_Morton_Grove_42  ...  52.631579\n",
              "91                       None_Shields_95  ...  87.500000\n",
              "\n",
              "[5 rows x 10 columns]"
            ]
          },
          "metadata": {},
          "execution_count": 68
        }
      ]
    },
    {
      "cell_type": "code",
      "metadata": {
        "id": "j23mAMXVepxu"
      },
      "source": [
        "dic = {\n",
        "    \"key\": \"Transportation_and_Logistics_Abbeville_5\",\n",
        "    \"recommended_jobs\": {\n",
        "        \"0\": {\n",
        "            \"city_name\": \"Abbeville\",\n",
        "            \"index\": 0,\n",
        "            \"industry\": \"Transportation and Logistics\",\n",
        "            \"job_id\": 1,\n",
        "            \"job_title\": \"Jobs near me - Deliver with Uber Eats\",\n",
        "            \"similarity\": 0.2484145721\n",
        "        }}}"
      ],
      "execution_count": 69,
      "outputs": []
    },
    {
      "cell_type": "code",
      "metadata": {
        "colab": {
          "base_uri": "https://localhost:8080/"
        },
        "id": "euaOzvvWep-V",
        "outputId": "f6d4feff-0b23-40ee-e4ff-a7ba59562a72"
      },
      "source": [
        "dic.keys()"
      ],
      "execution_count": 70,
      "outputs": [
        {
          "output_type": "execute_result",
          "data": {
            "text/plain": [
              "dict_keys(['key', 'recommended_jobs'])"
            ]
          },
          "metadata": {},
          "execution_count": 70
        }
      ]
    },
    {
      "cell_type": "code",
      "metadata": {
        "colab": {
          "base_uri": "https://localhost:8080/"
        },
        "id": "LJ3RWL48e6Oh",
        "outputId": "e079328e-1890-4134-8b9b-7dedb93374e9"
      },
      "source": [
        "dic['recommended_jobs']"
      ],
      "execution_count": 71,
      "outputs": [
        {
          "output_type": "execute_result",
          "data": {
            "text/plain": [
              "{'0': {'city_name': 'Abbeville',\n",
              "  'index': 0,\n",
              "  'industry': 'Transportation and Logistics',\n",
              "  'job_id': 1,\n",
              "  'job_title': 'Jobs near me - Deliver with Uber Eats',\n",
              "  'similarity': 0.2484145721}}"
            ]
          },
          "metadata": {},
          "execution_count": 71
        }
      ]
    },
    {
      "cell_type": "code",
      "metadata": {
        "id": "R2zPSf2Oe6Qb"
      },
      "source": [
        ""
      ],
      "execution_count": 71,
      "outputs": []
    },
    {
      "cell_type": "code",
      "metadata": {
        "id": "y3BuxSFUe6Tf"
      },
      "source": [
        "link = \"http://143.198.118.108:5080/jobs\""
      ],
      "execution_count": 74,
      "outputs": []
    },
    {
      "cell_type": "code",
      "metadata": {
        "id": "8iOqqPUse6V0"
      },
      "source": [
        "result = requests.post(link, data={'job_id': 5})\n",
        "json_data = json.loads(result.text)"
      ],
      "execution_count": 75,
      "outputs": []
    },
    {
      "cell_type": "code",
      "metadata": {
        "id": "xemcuVpDe6YZ"
      },
      "source": [
        "json_data"
      ],
      "execution_count": null,
      "outputs": []
    },
    {
      "cell_type": "code",
      "metadata": {
        "id": "W-ti1iyOqyxK"
      },
      "source": [
        "df_percentage = df[['key','positive','negative','percentage']]"
      ],
      "execution_count": 91,
      "outputs": []
    },
    {
      "cell_type": "code",
      "metadata": {
        "colab": {
          "base_uri": "https://localhost:8080/",
          "height": 234
        },
        "id": "9XJSHnbLrs7D",
        "outputId": "a9e36d77-1930-4716-b6b2-92e8f8e71b6f"
      },
      "source": [
        "df_percentage.head()"
      ],
      "execution_count": 92,
      "outputs": [
        {
          "output_type": "execute_result",
          "data": {
            "text/html": [
              "<div>\n",
              "<style scoped>\n",
              "    .dataframe tbody tr th:only-of-type {\n",
              "        vertical-align: middle;\n",
              "    }\n",
              "\n",
              "    .dataframe tbody tr th {\n",
              "        vertical-align: top;\n",
              "    }\n",
              "\n",
              "    .dataframe thead th {\n",
              "        text-align: right;\n",
              "    }\n",
              "</style>\n",
              "<table border=\"1\" class=\"dataframe\">\n",
              "  <thead>\n",
              "    <tr style=\"text-align: right;\">\n",
              "      <th></th>\n",
              "      <th>key</th>\n",
              "      <th>positive</th>\n",
              "      <th>negative</th>\n",
              "      <th>percentage</th>\n",
              "    </tr>\n",
              "    <tr>\n",
              "      <th>job_id</th>\n",
              "      <th></th>\n",
              "      <th></th>\n",
              "      <th></th>\n",
              "      <th></th>\n",
              "    </tr>\n",
              "  </thead>\n",
              "  <tbody>\n",
              "    <tr>\n",
              "      <th>26</th>\n",
              "      <td>None_Ackermanville_213</td>\n",
              "      <td>3</td>\n",
              "      <td>2</td>\n",
              "      <td>60.000000</td>\n",
              "    </tr>\n",
              "    <tr>\n",
              "      <th>1</th>\n",
              "      <td>None_Abington_201</td>\n",
              "      <td>9</td>\n",
              "      <td>7</td>\n",
              "      <td>56.250000</td>\n",
              "    </tr>\n",
              "    <tr>\n",
              "      <th>1</th>\n",
              "      <td>None_Nemours_72</td>\n",
              "      <td>0</td>\n",
              "      <td>7</td>\n",
              "      <td>0.000000</td>\n",
              "    </tr>\n",
              "    <tr>\n",
              "      <th>42</th>\n",
              "      <td>marten_transport_Morton_Grove_42</td>\n",
              "      <td>10</td>\n",
              "      <td>9</td>\n",
              "      <td>52.631579</td>\n",
              "    </tr>\n",
              "    <tr>\n",
              "      <th>91</th>\n",
              "      <td>None_Shields_95</td>\n",
              "      <td>7</td>\n",
              "      <td>1</td>\n",
              "      <td>87.500000</td>\n",
              "    </tr>\n",
              "  </tbody>\n",
              "</table>\n",
              "</div>"
            ],
            "text/plain": [
              "                                     key  positive  negative  percentage\n",
              "job_id                                                                  \n",
              "26                None_Ackermanville_213         3         2   60.000000\n",
              "1                      None_Abington_201         9         7   56.250000\n",
              "1                        None_Nemours_72         0         7    0.000000\n",
              "42      marten_transport_Morton_Grove_42        10         9   52.631579\n",
              "91                       None_Shields_95         7         1   87.500000"
            ]
          },
          "metadata": {},
          "execution_count": 92
        }
      ]
    },
    {
      "cell_type": "code",
      "metadata": {
        "colab": {
          "base_uri": "https://localhost:8080/"
        },
        "id": "OH8FR6eYe35F",
        "outputId": "6fffce2f-2017-4735-cf18-878c761fca6c"
      },
      "source": [
        "for key,value in json_data['recommended_jobs'].items():\n",
        "  try:\n",
        "    if df_percentage.iloc[value['job_id']]['percentage']>=36:\n",
        "      print(df_percentage.iloc[value['job_id']])\n",
        "  except Exception as e:\n",
        "    pass"
      ],
      "execution_count": 93,
      "outputs": [
        {
          "output_type": "stream",
          "name": "stdout",
          "text": [
            "key           None_Abington_201\n",
            "positive                      9\n",
            "negative                      7\n",
            "percentage                56.25\n",
            "Name: 1, dtype: object\n",
            "key           None_Abbottstown_217\n",
            "positive                         7\n",
            "negative                         7\n",
            "percentage                      50\n",
            "Name: 1, dtype: object\n",
            "key           None_Shields_95\n",
            "positive                    7\n",
            "negative                    1\n",
            "percentage               87.5\n",
            "Name: 91, dtype: object\n"
          ]
        }
      ]
    }
  ]
}